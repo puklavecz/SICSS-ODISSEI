{
 "cells": [
  {
   "cell_type": "code",
   "execution_count": 34,
   "id": "93787108",
   "metadata": {},
   "outputs": [],
   "source": [
    "import pandas as pd\n",
    "import matplotlib.pyplot as plt"
   ]
  },
  {
   "cell_type": "code",
   "execution_count": 35,
   "id": "cf27c4dd",
   "metadata": {},
   "outputs": [],
   "source": [
    "dat = pd.read_csv(\"data/data_subsample.csv\",\n",
    "                 dayfirst = True)"
   ]
  },
  {
   "cell_type": "code",
   "execution_count": 36,
   "id": "6ea111d6",
   "metadata": {},
   "outputs": [
    {
     "data": {
      "text/html": [
       "<div>\n",
       "<style scoped>\n",
       "    .dataframe tbody tr th:only-of-type {\n",
       "        vertical-align: middle;\n",
       "    }\n",
       "\n",
       "    .dataframe tbody tr th {\n",
       "        vertical-align: top;\n",
       "    }\n",
       "\n",
       "    .dataframe thead th {\n",
       "        text-align: right;\n",
       "    }\n",
       "</style>\n",
       "<table border=\"1\" class=\"dataframe\">\n",
       "  <thead>\n",
       "    <tr style=\"text-align: right;\">\n",
       "      <th></th>\n",
       "      <th>nomem_encr</th>\n",
       "      <th>cf19l_m</th>\n",
       "      <th>cf19l390</th>\n",
       "      <th>cf19l391</th>\n",
       "      <th>cf19l392</th>\n",
       "      <th>cf19l393</th>\n",
       "      <th>cf19l394</th>\n",
       "      <th>cf19l395</th>\n",
       "      <th>cf19l396</th>\n",
       "      <th>cf19l397</th>\n",
       "    </tr>\n",
       "  </thead>\n",
       "  <tbody>\n",
       "    <tr>\n",
       "      <th>0</th>\n",
       "      <td>53334</td>\n",
       "      <td>201909</td>\n",
       "      <td>1.0</td>\n",
       "      <td>4.0</td>\n",
       "      <td>4.0</td>\n",
       "      <td>02-09-2019</td>\n",
       "      <td>18:45:14</td>\n",
       "      <td>02-09-2019</td>\n",
       "      <td>18:49:29</td>\n",
       "      <td>255.0</td>\n",
       "    </tr>\n",
       "    <tr>\n",
       "      <th>1</th>\n",
       "      <td>53334</td>\n",
       "      <td>201909</td>\n",
       "      <td>3.0</td>\n",
       "      <td>4.0</td>\n",
       "      <td>1.0</td>\n",
       "      <td>02-09-2019</td>\n",
       "      <td>22:07:24</td>\n",
       "      <td>02-09-2019</td>\n",
       "      <td>22:17:23</td>\n",
       "      <td>599.0</td>\n",
       "    </tr>\n",
       "    <tr>\n",
       "      <th>2</th>\n",
       "      <td>53337</td>\n",
       "      <td>201909</td>\n",
       "      <td>3.0</td>\n",
       "      <td>3.0</td>\n",
       "      <td>3.0</td>\n",
       "      <td>16-09-2019</td>\n",
       "      <td>13:04:13</td>\n",
       "      <td>16-09-2019</td>\n",
       "      <td>13:06:53</td>\n",
       "      <td>160.0</td>\n",
       "    </tr>\n",
       "    <tr>\n",
       "      <th>3</th>\n",
       "      <td>53337</td>\n",
       "      <td>201909</td>\n",
       "      <td>4.0</td>\n",
       "      <td>3.0</td>\n",
       "      <td>3.0</td>\n",
       "      <td>17-09-2019</td>\n",
       "      <td>11:34:20</td>\n",
       "      <td>17-09-2019</td>\n",
       "      <td>11:45:07</td>\n",
       "      <td>647.0</td>\n",
       "    </tr>\n",
       "    <tr>\n",
       "      <th>4</th>\n",
       "      <td>53339</td>\n",
       "      <td>201909</td>\n",
       "      <td>1.0</td>\n",
       "      <td>3.0</td>\n",
       "      <td>2.0</td>\n",
       "      <td>21-09-2019</td>\n",
       "      <td>13:47:55</td>\n",
       "      <td>21-09-2019</td>\n",
       "      <td>13:51:55</td>\n",
       "      <td>240.0</td>\n",
       "    </tr>\n",
       "    <tr>\n",
       "      <th>...</th>\n",
       "      <td>...</td>\n",
       "      <td>...</td>\n",
       "      <td>...</td>\n",
       "      <td>...</td>\n",
       "      <td>...</td>\n",
       "      <td>...</td>\n",
       "      <td>...</td>\n",
       "      <td>...</td>\n",
       "      <td>...</td>\n",
       "      <td>...</td>\n",
       "    </tr>\n",
       "    <tr>\n",
       "      <th>995</th>\n",
       "      <td>54573</td>\n",
       "      <td>201909</td>\n",
       "      <td>2.0</td>\n",
       "      <td>4.0</td>\n",
       "      <td>4.0</td>\n",
       "      <td>10-09-2019</td>\n",
       "      <td>19:13:54</td>\n",
       "      <td>10-09-2019</td>\n",
       "      <td>19:24:47</td>\n",
       "      <td>653.0</td>\n",
       "    </tr>\n",
       "    <tr>\n",
       "      <th>996</th>\n",
       "      <td>54576</td>\n",
       "      <td>201910</td>\n",
       "      <td>3.0</td>\n",
       "      <td>3.0</td>\n",
       "      <td>3.0</td>\n",
       "      <td>13-10-2019</td>\n",
       "      <td>14:41:56</td>\n",
       "      <td>13-10-2019</td>\n",
       "      <td>14:50:31</td>\n",
       "      <td>515.0</td>\n",
       "    </tr>\n",
       "    <tr>\n",
       "      <th>997</th>\n",
       "      <td>54576</td>\n",
       "      <td>201909</td>\n",
       "      <td>2.0</td>\n",
       "      <td>4.0</td>\n",
       "      <td>3.0</td>\n",
       "      <td>05-09-2019</td>\n",
       "      <td>13:08:23</td>\n",
       "      <td>11-09-2019</td>\n",
       "      <td>16:41:11</td>\n",
       "      <td>531168.0</td>\n",
       "    </tr>\n",
       "    <tr>\n",
       "      <th>998</th>\n",
       "      <td>54577</td>\n",
       "      <td>201910</td>\n",
       "      <td>3.0</td>\n",
       "      <td>3.0</td>\n",
       "      <td>2.0</td>\n",
       "      <td>17-10-2019</td>\n",
       "      <td>19:03:31</td>\n",
       "      <td>17-10-2019</td>\n",
       "      <td>19:11:01</td>\n",
       "      <td>450.0</td>\n",
       "    </tr>\n",
       "    <tr>\n",
       "      <th>999</th>\n",
       "      <td>54577</td>\n",
       "      <td>201909</td>\n",
       "      <td>4.0</td>\n",
       "      <td>4.0</td>\n",
       "      <td>4.0</td>\n",
       "      <td>16-09-2019</td>\n",
       "      <td>11:44:03</td>\n",
       "      <td>16-09-2019</td>\n",
       "      <td>11:45:51</td>\n",
       "      <td>108.0</td>\n",
       "    </tr>\n",
       "  </tbody>\n",
       "</table>\n",
       "<p>1000 rows × 10 columns</p>\n",
       "</div>"
      ],
      "text/plain": [
       "     nomem_encr  cf19l_m  cf19l390  cf19l391  cf19l392    cf19l393  cf19l394  \\\n",
       "0         53334   201909       1.0       4.0       4.0  02-09-2019  18:45:14   \n",
       "1         53334   201909       3.0       4.0       1.0  02-09-2019  22:07:24   \n",
       "2         53337   201909       3.0       3.0       3.0  16-09-2019  13:04:13   \n",
       "3         53337   201909       4.0       3.0       3.0  17-09-2019  11:34:20   \n",
       "4         53339   201909       1.0       3.0       2.0  21-09-2019  13:47:55   \n",
       "..          ...      ...       ...       ...       ...         ...       ...   \n",
       "995       54573   201909       2.0       4.0       4.0  10-09-2019  19:13:54   \n",
       "996       54576   201910       3.0       3.0       3.0  13-10-2019  14:41:56   \n",
       "997       54576   201909       2.0       4.0       3.0  05-09-2019  13:08:23   \n",
       "998       54577   201910       3.0       3.0       2.0  17-10-2019  19:03:31   \n",
       "999       54577   201909       4.0       4.0       4.0  16-09-2019  11:44:03   \n",
       "\n",
       "       cf19l395  cf19l396  cf19l397  \n",
       "0    02-09-2019  18:49:29     255.0  \n",
       "1    02-09-2019  22:17:23     599.0  \n",
       "2    16-09-2019  13:06:53     160.0  \n",
       "3    17-09-2019  11:45:07     647.0  \n",
       "4    21-09-2019  13:51:55     240.0  \n",
       "..          ...       ...       ...  \n",
       "995  10-09-2019  19:24:47     653.0  \n",
       "996  13-10-2019  14:50:31     515.0  \n",
       "997  11-09-2019  16:41:11  531168.0  \n",
       "998  17-10-2019  19:11:01     450.0  \n",
       "999  16-09-2019  11:45:51     108.0  \n",
       "\n",
       "[1000 rows x 10 columns]"
      ]
     },
     "execution_count": 36,
     "metadata": {},
     "output_type": "execute_result"
    }
   ],
   "source": [
    "dat"
   ]
  },
  {
   "cell_type": "code",
   "execution_count": 37,
   "id": "777c1e41",
   "metadata": {},
   "outputs": [
    {
     "data": {
      "text/plain": [
       "pandas.core.series.Series"
      ]
     },
     "execution_count": 37,
     "metadata": {},
     "output_type": "execute_result"
    }
   ],
   "source": [
    "var = pd.to_datetime(dat[\"cf19l393\"], dayfirst = True)\n",
    "var = var.sort_values()\n",
    "type(var)"
   ]
  },
  {
   "cell_type": "code",
   "execution_count": 38,
   "id": "2c33baec",
   "metadata": {},
   "outputs": [
    {
     "data": {
      "text/plain": [
       "45"
      ]
     },
     "execution_count": 38,
     "metadata": {},
     "output_type": "execute_result"
    }
   ],
   "source": [
    "var.nunique()"
   ]
  },
  {
   "cell_type": "code",
   "execution_count": 39,
   "id": "ac74e9f9",
   "metadata": {},
   "outputs": [
    {
     "name": "stdout",
     "output_type": "stream",
     "text": [
      "['2019-09-02T00:00:00.000000000' '2019-09-03T00:00:00.000000000'\n",
      " '2019-09-04T00:00:00.000000000' '2019-09-05T00:00:00.000000000'\n",
      " '2019-09-06T00:00:00.000000000' '2019-09-07T00:00:00.000000000'\n",
      " '2019-09-08T00:00:00.000000000' '2019-09-09T00:00:00.000000000'\n",
      " '2019-09-10T00:00:00.000000000' '2019-09-11T00:00:00.000000000'\n",
      " '2019-09-12T00:00:00.000000000' '2019-09-13T00:00:00.000000000'\n",
      " '2019-09-14T00:00:00.000000000' '2019-09-15T00:00:00.000000000'\n",
      " '2019-09-16T00:00:00.000000000' '2019-09-17T00:00:00.000000000'\n",
      " '2019-09-18T00:00:00.000000000' '2019-09-19T00:00:00.000000000'\n",
      " '2019-09-20T00:00:00.000000000' '2019-09-21T00:00:00.000000000'\n",
      " '2019-09-22T00:00:00.000000000' '2019-09-23T00:00:00.000000000'\n",
      " '2019-09-24T00:00:00.000000000' '2019-10-07T00:00:00.000000000'\n",
      " '2019-10-08T00:00:00.000000000' '2019-10-09T00:00:00.000000000'\n",
      " '2019-10-10T00:00:00.000000000' '2019-10-12T00:00:00.000000000'\n",
      " '2019-10-13T00:00:00.000000000' '2019-10-14T00:00:00.000000000'\n",
      " '2019-10-15T00:00:00.000000000' '2019-10-16T00:00:00.000000000'\n",
      " '2019-10-17T00:00:00.000000000' '2019-10-18T00:00:00.000000000'\n",
      " '2019-10-19T00:00:00.000000000' '2019-10-20T00:00:00.000000000'\n",
      " '2019-10-21T00:00:00.000000000' '2019-10-22T00:00:00.000000000'\n",
      " '2019-10-23T00:00:00.000000000' '2019-10-24T00:00:00.000000000'\n",
      " '2019-10-25T00:00:00.000000000' '2019-10-26T00:00:00.000000000'\n",
      " '2019-10-27T00:00:00.000000000' '2019-10-28T00:00:00.000000000'\n",
      " '2019-10-29T00:00:00.000000000']\n"
     ]
    }
   ],
   "source": [
    "print(var.unique())"
   ]
  },
  {
   "cell_type": "code",
   "execution_count": 40,
   "id": "c2269f36",
   "metadata": {},
   "outputs": [
    {
     "data": {
      "text/plain": [
       "2019-09-02    146\n",
       "2019-09-03     73\n",
       "2019-09-04     52\n",
       "2019-09-05     35\n",
       "2019-09-06     26\n",
       "Name: cf19l393, dtype: int64"
      ]
     },
     "execution_count": 40,
     "metadata": {},
     "output_type": "execute_result"
    }
   ],
   "source": [
    "var.value_counts(sort = False).head()"
   ]
  },
  {
   "cell_type": "code",
   "execution_count": 41,
   "id": "b6b96e85",
   "metadata": {},
   "outputs": [
    {
     "data": {
      "text/plain": [
       "Timestamp('2019-09-02 00:00:00')"
      ]
     },
     "execution_count": 41,
     "metadata": {},
     "output_type": "execute_result"
    }
   ],
   "source": [
    "var.min()"
   ]
  },
  {
   "cell_type": "code",
   "execution_count": 42,
   "id": "4212ae2a",
   "metadata": {},
   "outputs": [
    {
     "data": {
      "text/plain": [
       "Timestamp('2019-10-29 00:00:00')"
      ]
     },
     "execution_count": 42,
     "metadata": {},
     "output_type": "execute_result"
    }
   ],
   "source": [
    "var.max()"
   ]
  },
  {
   "cell_type": "code",
   "execution_count": 43,
   "id": "0e2aa677",
   "metadata": {},
   "outputs": [
    {
     "data": {
      "text/plain": [
       "57"
      ]
     },
     "execution_count": 43,
     "metadata": {},
     "output_type": "execute_result"
    }
   ],
   "source": [
    "nbins = var.max() - var.min()\n",
    "nbins = nbins.days\n",
    "nbins"
   ]
  },
  {
   "cell_type": "code",
   "execution_count": 45,
   "id": "0cf27c5f",
   "metadata": {},
   "outputs": [
    {
     "data": {
      "text/plain": [
       "Text(0.5, 0, '\\ndate')"
      ]
     },
     "execution_count": 45,
     "metadata": {},
     "output_type": "execute_result"
    },
    {
     "data": {
      "image/png": "[encoded data removed]",
      "text/plain": [
       "<Figure size 640x480 with 1 Axes>"
      ]
     },
     "metadata": {},
     "output_type": "display_data"
    }
   ],
   "source": [
    "plot = plt.hist(x = var,\n",
    "               bins = nbins,\n",
    "               rwidth = 0.8)\n",
    "plt.xticks(rotation = \"vertical\",\n",
    "          fontsize = 8)\n",
    "plt.ylabel(\"number of observations\")\n",
    "plt.xlabel(\"\\ndate\")"
   ]
  },
  {
   "cell_type": "code",
   "execution_count": null,
   "id": "11ee0961",
   "metadata": {},
   "outputs": [],
   "source": []
  }
 ],
 "metadata": {
  "kernelspec": {
   "display_name": "Python 3 (ipykernel)",
   "language": "python",
   "name": "python3"
  },
  "language_info": {
   "codemirror_mode": {
    "name": "ipython",
    "version": 3
   },
   "file_extension": ".py",
   "mimetype": "text/x-python",
   "name": "python",
   "nbconvert_exporter": "python",
   "pygments_lexer": "ipython3",
   "version": "3.10.9"
  }
 },
 "nbformat": 4,
 "nbformat_minor": 5
}
