{
 "cells": [
  {
   "cell_type": "code",
   "execution_count": 97,
   "id": "93787108",
   "metadata": {},
   "outputs": [],
   "source": [
    "import pandas as pd\n",
    "import matplotlib.pyplot as plt"
   ]
  },
  {
   "cell_type": "code",
   "execution_count": 98,
   "id": "cf27c4dd",
   "metadata": {},
   "outputs": [],
   "source": [
    "dat = pd.read_csv(\"data/data_subsample.csv\",\n",
    "                 dayfirst = True)"
   ]
  },
  {
   "cell_type": "code",
   "execution_count": 99,
   "id": "6ea111d6",
   "metadata": {},
   "outputs": [
    {
     "data": {
      "text/html": [
       "<div>\n",
       "<style scoped>\n",
       "    .dataframe tbody tr th:only-of-type {\n",
       "        vertical-align: middle;\n",
       "    }\n",
       "\n",
       "    .dataframe tbody tr th {\n",
       "        vertical-align: top;\n",
       "    }\n",
       "\n",
       "    .dataframe thead th {\n",
       "        text-align: right;\n",
       "    }\n",
       "</style>\n",
       "<table border=\"1\" class=\"dataframe\">\n",
       "  <thead>\n",
       "    <tr style=\"text-align: right;\">\n",
       "      <th></th>\n",
       "      <th>nomem_encr</th>\n",
       "      <th>cf19l_m</th>\n",
       "      <th>cf19l390</th>\n",
       "      <th>cf19l391</th>\n",
       "      <th>cf19l392</th>\n",
       "      <th>cf19l393</th>\n",
       "      <th>cf19l394</th>\n",
       "      <th>cf19l395</th>\n",
       "      <th>cf19l396</th>\n",
       "      <th>cf19l397</th>\n",
       "    </tr>\n",
       "  </thead>\n",
       "  <tbody>\n",
       "    <tr>\n",
       "      <th>0</th>\n",
       "      <td>53334</td>\n",
       "      <td>201909</td>\n",
       "      <td>1.0</td>\n",
       "      <td>4.0</td>\n",
       "      <td>4.0</td>\n",
       "      <td>02-09-2019</td>\n",
       "      <td>18:45:14</td>\n",
       "      <td>02-09-2019</td>\n",
       "      <td>18:49:29</td>\n",
       "      <td>255.0</td>\n",
       "    </tr>\n",
       "    <tr>\n",
       "      <th>1</th>\n",
       "      <td>53334</td>\n",
       "      <td>201909</td>\n",
       "      <td>3.0</td>\n",
       "      <td>4.0</td>\n",
       "      <td>1.0</td>\n",
       "      <td>02-09-2019</td>\n",
       "      <td>22:07:24</td>\n",
       "      <td>02-09-2019</td>\n",
       "      <td>22:17:23</td>\n",
       "      <td>599.0</td>\n",
       "    </tr>\n",
       "    <tr>\n",
       "      <th>2</th>\n",
       "      <td>53337</td>\n",
       "      <td>201909</td>\n",
       "      <td>3.0</td>\n",
       "      <td>3.0</td>\n",
       "      <td>3.0</td>\n",
       "      <td>16-09-2019</td>\n",
       "      <td>13:04:13</td>\n",
       "      <td>16-09-2019</td>\n",
       "      <td>13:06:53</td>\n",
       "      <td>160.0</td>\n",
       "    </tr>\n",
       "    <tr>\n",
       "      <th>3</th>\n",
       "      <td>53337</td>\n",
       "      <td>201909</td>\n",
       "      <td>4.0</td>\n",
       "      <td>3.0</td>\n",
       "      <td>3.0</td>\n",
       "      <td>17-09-2019</td>\n",
       "      <td>11:34:20</td>\n",
       "      <td>17-09-2019</td>\n",
       "      <td>11:45:07</td>\n",
       "      <td>647.0</td>\n",
       "    </tr>\n",
       "    <tr>\n",
       "      <th>4</th>\n",
       "      <td>53339</td>\n",
       "      <td>201909</td>\n",
       "      <td>1.0</td>\n",
       "      <td>3.0</td>\n",
       "      <td>2.0</td>\n",
       "      <td>21-09-2019</td>\n",
       "      <td>13:47:55</td>\n",
       "      <td>21-09-2019</td>\n",
       "      <td>13:51:55</td>\n",
       "      <td>240.0</td>\n",
       "    </tr>\n",
       "    <tr>\n",
       "      <th>...</th>\n",
       "      <td>...</td>\n",
       "      <td>...</td>\n",
       "      <td>...</td>\n",
       "      <td>...</td>\n",
       "      <td>...</td>\n",
       "      <td>...</td>\n",
       "      <td>...</td>\n",
       "      <td>...</td>\n",
       "      <td>...</td>\n",
       "      <td>...</td>\n",
       "    </tr>\n",
       "    <tr>\n",
       "      <th>995</th>\n",
       "      <td>54573</td>\n",
       "      <td>201909</td>\n",
       "      <td>2.0</td>\n",
       "      <td>4.0</td>\n",
       "      <td>4.0</td>\n",
       "      <td>10-09-2019</td>\n",
       "      <td>19:13:54</td>\n",
       "      <td>10-09-2019</td>\n",
       "      <td>19:24:47</td>\n",
       "      <td>653.0</td>\n",
       "    </tr>\n",
       "    <tr>\n",
       "      <th>996</th>\n",
       "      <td>54576</td>\n",
       "      <td>201910</td>\n",
       "      <td>3.0</td>\n",
       "      <td>3.0</td>\n",
       "      <td>3.0</td>\n",
       "      <td>13-10-2019</td>\n",
       "      <td>14:41:56</td>\n",
       "      <td>13-10-2019</td>\n",
       "      <td>14:50:31</td>\n",
       "      <td>515.0</td>\n",
       "    </tr>\n",
       "    <tr>\n",
       "      <th>997</th>\n",
       "      <td>54576</td>\n",
       "      <td>201909</td>\n",
       "      <td>2.0</td>\n",
       "      <td>4.0</td>\n",
       "      <td>3.0</td>\n",
       "      <td>05-09-2019</td>\n",
       "      <td>13:08:23</td>\n",
       "      <td>11-09-2019</td>\n",
       "      <td>16:41:11</td>\n",
       "      <td>531168.0</td>\n",
       "    </tr>\n",
       "    <tr>\n",
       "      <th>998</th>\n",
       "      <td>54577</td>\n",
       "      <td>201910</td>\n",
       "      <td>3.0</td>\n",
       "      <td>3.0</td>\n",
       "      <td>2.0</td>\n",
       "      <td>17-10-2019</td>\n",
       "      <td>19:03:31</td>\n",
       "      <td>17-10-2019</td>\n",
       "      <td>19:11:01</td>\n",
       "      <td>450.0</td>\n",
       "    </tr>\n",
       "    <tr>\n",
       "      <th>999</th>\n",
       "      <td>54577</td>\n",
       "      <td>201909</td>\n",
       "      <td>4.0</td>\n",
       "      <td>4.0</td>\n",
       "      <td>4.0</td>\n",
       "      <td>16-09-2019</td>\n",
       "      <td>11:44:03</td>\n",
       "      <td>16-09-2019</td>\n",
       "      <td>11:45:51</td>\n",
       "      <td>108.0</td>\n",
       "    </tr>\n",
       "  </tbody>\n",
       "</table>\n",
       "<p>1000 rows × 10 columns</p>\n",
       "</div>"
      ],
      "text/plain": [
       "     nomem_encr  cf19l_m  cf19l390  cf19l391  cf19l392    cf19l393  cf19l394  \\\n",
       "0         53334   201909       1.0       4.0       4.0  02-09-2019  18:45:14   \n",
       "1         53334   201909       3.0       4.0       1.0  02-09-2019  22:07:24   \n",
       "2         53337   201909       3.0       3.0       3.0  16-09-2019  13:04:13   \n",
       "3         53337   201909       4.0       3.0       3.0  17-09-2019  11:34:20   \n",
       "4         53339   201909       1.0       3.0       2.0  21-09-2019  13:47:55   \n",
       "..          ...      ...       ...       ...       ...         ...       ...   \n",
       "995       54573   201909       2.0       4.0       4.0  10-09-2019  19:13:54   \n",
       "996       54576   201910       3.0       3.0       3.0  13-10-2019  14:41:56   \n",
       "997       54576   201909       2.0       4.0       3.0  05-09-2019  13:08:23   \n",
       "998       54577   201910       3.0       3.0       2.0  17-10-2019  19:03:31   \n",
       "999       54577   201909       4.0       4.0       4.0  16-09-2019  11:44:03   \n",
       "\n",
       "       cf19l395  cf19l396  cf19l397  \n",
       "0    02-09-2019  18:49:29     255.0  \n",
       "1    02-09-2019  22:17:23     599.0  \n",
       "2    16-09-2019  13:06:53     160.0  \n",
       "3    17-09-2019  11:45:07     647.0  \n",
       "4    21-09-2019  13:51:55     240.0  \n",
       "..          ...       ...       ...  \n",
       "995  10-09-2019  19:24:47     653.0  \n",
       "996  13-10-2019  14:50:31     515.0  \n",
       "997  11-09-2019  16:41:11  531168.0  \n",
       "998  17-10-2019  19:11:01     450.0  \n",
       "999  16-09-2019  11:45:51     108.0  \n",
       "\n",
       "[1000 rows x 10 columns]"
      ]
     },
     "execution_count": 99,
     "metadata": {},
     "output_type": "execute_result"
    }
   ],
   "source": [
    "dat"
   ]
  },
  {
   "cell_type": "code",
   "execution_count": 100,
   "id": "fb434631",
   "metadata": {},
   "outputs": [
    {
     "data": {
      "text/plain": [
       "pandas.core.series.Series"
      ]
     },
     "execution_count": 100,
     "metadata": {},
     "output_type": "execute_result"
    }
   ],
   "source": [
    "dat.sort_values(by = \"cf19l393\", inplace = True)\n",
    "var = dat[\"cf19l393\"]\n",
    "type(var)"
   ]
  },
  {
   "cell_type": "code",
   "execution_count": 101,
   "id": "2c33baec",
   "metadata": {},
   "outputs": [
    {
     "data": {
      "text/plain": [
       "45"
      ]
     },
     "execution_count": 101,
     "metadata": {},
     "output_type": "execute_result"
    }
   ],
   "source": [
    "var.nunique()"
   ]
  },
  {
   "cell_type": "code",
   "execution_count": 102,
   "id": "ac74e9f9",
   "metadata": {},
   "outputs": [
    {
     "name": "stdout",
     "output_type": "stream",
     "text": [
      "['02-09-2019' '03-09-2019' '04-09-2019' '05-09-2019' '06-09-2019'\n",
      " '07-09-2019' '07-10-2019' '08-09-2019' '08-10-2019' '09-09-2019'\n",
      " '09-10-2019' '10-09-2019' '10-10-2019' '11-09-2019' '12-09-2019'\n",
      " '12-10-2019' '13-09-2019' '13-10-2019' '14-09-2019' '14-10-2019'\n",
      " '15-09-2019' '15-10-2019' '16-09-2019' '16-10-2019' '17-09-2019'\n",
      " '17-10-2019' '18-09-2019' '18-10-2019' '19-09-2019' '19-10-2019'\n",
      " '20-09-2019' '20-10-2019' '21-09-2019' '21-10-2019' '22-09-2019'\n",
      " '22-10-2019' '23-09-2019' '23-10-2019' '24-09-2019' '24-10-2019'\n",
      " '25-10-2019' '26-10-2019' '27-10-2019' '28-10-2019' '29-10-2019']\n"
     ]
    }
   ],
   "source": [
    "print(var.unique())"
   ]
  },
  {
   "cell_type": "code",
   "execution_count": 103,
   "id": "b6b96e85",
   "metadata": {},
   "outputs": [
    {
     "data": {
      "text/plain": [
       "'02-09-2019'"
      ]
     },
     "execution_count": 103,
     "metadata": {},
     "output_type": "execute_result"
    }
   ],
   "source": [
    "var.min()"
   ]
  },
  {
   "cell_type": "code",
   "execution_count": 104,
   "id": "4212ae2a",
   "metadata": {},
   "outputs": [
    {
     "data": {
      "text/plain": [
       "'29-10-2019'"
      ]
     },
     "execution_count": 104,
     "metadata": {},
     "output_type": "execute_result"
    }
   ],
   "source": [
    "var.max()"
   ]
  },
  {
   "cell_type": "code",
   "execution_count": 105,
   "id": "c2269f36",
   "metadata": {},
   "outputs": [
    {
     "data": {
      "text/plain": [
       "02-09-2019    146\n",
       "03-09-2019     73\n",
       "04-09-2019     52\n",
       "05-09-2019     35\n",
       "06-09-2019     26\n",
       "Name: cf19l393, dtype: int64"
      ]
     },
     "execution_count": 105,
     "metadata": {},
     "output_type": "execute_result"
    }
   ],
   "source": [
    "var.value_counts(sort = False).head()"
   ]
  },
  {
   "cell_type": "code",
   "execution_count": 106,
   "id": "0cf27c5f",
   "metadata": {},
   "outputs": [
    {
     "data": {
      "image/png": "[encoded data removed]",
      "text/plain": [
       "<Figure size 640x480 with 1 Axes>"
      ]
     },
     "metadata": {},
     "output_type": "display_data"
    }
   ],
   "source": [
    "plot = plt.hist(x = var,\n",
    "               bins = var.nunique(),\n",
    "               rwidth = 0.9)\n",
    "plt.xticks(rotation = \"vertical\",\n",
    "          fontsize = 8)\n",
    "plt.ylabel(\"number of observations\")\n",
    "plt.xlabel(\"\\ndate\")\n",
    "plt.rc('xtick', labelsize = 1) "
   ]
  }
 ],
 "metadata": {
  "kernelspec": {
   "display_name": "Python 3 (ipykernel)",
   "language": "python",
   "name": "python3"
  },
  "language_info": {
   "codemirror_mode": {
    "name": "ipython",
    "version": 3
   },
   "file_extension": ".py",
   "mimetype": "text/x-python",
   "name": "python",
   "nbconvert_exporter": "python",
   "pygments_lexer": "ipython3",
   "version": "3.10.9"
  }
 },
 "nbformat": 4,
 "nbformat_minor": 5
}
